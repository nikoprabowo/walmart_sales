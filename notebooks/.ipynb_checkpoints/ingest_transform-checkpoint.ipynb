{
 "cells": [
  {
   "cell_type": "code",
   "execution_count": 1,
   "id": "992500ea-e56b-4381-9c5b-9ca51277cde2",
   "metadata": {},
   "outputs": [
    {
     "name": "stdout",
     "output_type": "stream",
     "text": [
      "======================================================================\n",
      "Environment & Library Versions\n",
      "======================================================================\n",
      "Python version      : 3.13.4\n",
      "Platform            : Windows-11-10.0.26100-SP0\n",
      "Processor           : Intel64 Family 6 Model 126 Stepping 5, GenuineIntel\n",
      "Machine             : AMD64\n",
      "CPU Count (logical) : 8\n",
      "RAM Total (GB)      : 15.77 GB\n",
      "----------------------------------------------------------------------\n",
      "pandas              : 2.3.1\n",
      "numpy               : 2.3.1\n",
      "matplotlib          : 3.10.7\n",
      "scipy               : N/A\n",
      "kagglehub           : 0.3.13\n",
      "----------------------------------------------------------------------\n",
      "Working Directory   : D:\\learn\\portf\\walmart_sales\n",
      "======================================================================\n"
     ]
    }
   ],
   "source": [
    "# ============================================================\n",
    "# Library Imports\n",
    "# ============================================================\n",
    "import sys\n",
    "import platform\n",
    "import os\n",
    "import psutil\n",
    "import pandas as pd\n",
    "import numpy as np\n",
    "import kagglehub\n",
    "from kagglehub import KaggleDatasetAdapter\n",
    "import matplotlib\n",
    "import matplotlib.pyplot as plt\n",
    "from scipy import stats\n",
    "\n",
    "# ============================================================\n",
    "# Version & Environment Info\n",
    "# ============================================================\n",
    "print(\"=\"*70)\n",
    "print(\"Environment & Library Versions\")\n",
    "print(\"=\"*70)\n",
    "print(f\"Python version      : {sys.version.split()[0]}\")\n",
    "print(f\"Platform            : {platform.platform()}\")\n",
    "print(f\"Processor           : {platform.processor() or 'Unknown'}\")\n",
    "print(f\"Machine             : {platform.machine()}\")\n",
    "print(f\"CPU Count (logical) : {psutil.cpu_count(logical=True)}\")\n",
    "print(f\"RAM Total (GB)      : {round(psutil.virtual_memory().total / (1024**3), 2)} GB\")\n",
    "print(\"-\"*70)\n",
    "print(f\"pandas              : {pd.__version__}\")\n",
    "print(f\"numpy               : {np.__version__}\")\n",
    "print(f\"matplotlib          : {matplotlib.__version__}\")\n",
    "print(f\"scipy               : {stats.__version__ if hasattr(stats, '__version__') else 'N/A'}\")\n",
    "print(f\"kagglehub           : {kagglehub.__version__}\")\n",
    "print(\"-\"*70)\n",
    "print(f\"Working Directory   : {os.getcwd()}\")\n",
    "print(\"=\"*70)"
   ]
  },
  {
   "cell_type": "code",
   "execution_count": 2,
   "id": "af442689-3eda-448b-b842-53b55cd3a437",
   "metadata": {},
   "outputs": [],
   "source": [
    "# load data\n",
    "# source : https://www.kaggle.com/datasets/mikhail1681/walmart-sales\n",
    "file_path = \"Walmart_Sales.csv\"\n",
    "df = kagglehub.dataset_load(\n",
    "  KaggleDatasetAdapter.PANDAS,\n",
    "  \"mikhail1681/walmart-sales\",\n",
    "  file_path,\n",
    ")"
   ]
  },
  {
   "cell_type": "code",
   "execution_count": 3,
   "id": "b5c9de56-115f-4d51-bd44-8d4961a81724",
   "metadata": {},
   "outputs": [
    {
     "name": "stdout",
     "output_type": "stream",
     "text": [
      "   Store        Date  Weekly_Sales  Holiday_Flag  Temperature  Fuel_Price  \\\n",
      "0      1  05-02-2010    1643690.90             0        42.31       2.572   \n",
      "1      1  12-02-2010    1641957.44             1        38.51       2.548   \n",
      "2      1  19-02-2010    1611968.17             0        39.93       2.514   \n",
      "3      1  26-02-2010    1409727.59             0        46.63       2.561   \n",
      "4      1  05-03-2010    1554806.68             0        46.50       2.625   \n",
      "\n",
      "          CPI  Unemployment  \n",
      "0  211.096358         8.106  \n",
      "1  211.242170         8.106  \n",
      "2  211.289143         8.106  \n",
      "3  211.319643         8.106  \n",
      "4  211.350143         8.106  \n",
      "<class 'pandas.core.frame.DataFrame'>\n",
      "RangeIndex: 6435 entries, 0 to 6434\n",
      "Data columns (total 8 columns):\n",
      " #   Column        Non-Null Count  Dtype  \n",
      "---  ------        --------------  -----  \n",
      " 0   Store         6435 non-null   int64  \n",
      " 1   Date          6435 non-null   object \n",
      " 2   Weekly_Sales  6435 non-null   float64\n",
      " 3   Holiday_Flag  6435 non-null   int64  \n",
      " 4   Temperature   6435 non-null   float64\n",
      " 5   Fuel_Price    6435 non-null   float64\n",
      " 6   CPI           6435 non-null   float64\n",
      " 7   Unemployment  6435 non-null   float64\n",
      "dtypes: float64(5), int64(2), object(1)\n",
      "memory usage: 402.3+ KB\n",
      "None\n"
     ]
    }
   ],
   "source": [
    "# raw data check\n",
    "print(df.head())\n",
    "print(df.info())"
   ]
  },
  {
   "cell_type": "code",
   "execution_count": 4,
   "id": "8553efd0-509f-44b9-9a6a-ba9777b3f1c8",
   "metadata": {},
   "outputs": [],
   "source": [
    "# transform 1\n",
    "df['Date'] = pd.to_datetime(df['Date'], format='%d-%m-%Y', errors='coerce')\n",
    "df = df.dropna(subset=['Date']).copy()\n",
    "df = df.sort_values(['Store', 'Date']).reset_index(drop=True)\n",
    "df['Year'] = df['Date'].dt.year\n",
    "df['Month'] = df['Date'].dt.month\n",
    "df['Week'] = df['Date'].dt.isocalendar().week.astype('UInt32')\n",
    "df['DayOfWeek'] = df['Date'].dt.dayofweek.astype('int8')\n",
    "df['Store'] = df['Store'].astype('category')\n",
    "df['Holiday_Flag'] = df['Holiday_Flag'].astype('category')\n",
    "df['Holiday'] = df['Holiday_Flag'].cat.rename_categories({0:'No Holiday', 1:'Holiday'})\n",
    "df['Sales_3week_MA'] = (\n",
    "    df.groupby('Store', observed=True)['Weekly_Sales']\n",
    "      .transform(lambda x: x.rolling(window=3, min_periods=1).mean())\n",
    ")\n",
    "df['Sales_12week_MA'] = (\n",
    "    df.groupby('Store', observed=True)['Weekly_Sales']\n",
    "      .transform(lambda x: x.rolling(window=12, min_periods=1).mean())\n",
    ")\n",
    "df['Temp_Bin'] = pd.cut(df['Temperature'],\n",
    "                        bins=[-1e9, 40, 60, 80, 1e9],\n",
    "                        labels=['Cold', 'Mild', 'Warm', 'Hot'],\n",
    "                        include_lowest=True)\n",
    "df['Temp_Bin'] = pd.Categorical(df['Temp_Bin'], \n",
    "                                categories=['Cold', 'Mild', 'Warm', 'Hot'], \n",
    "                                ordered=True)\n",
    "def get_season(month):\n",
    "    if month in [12, 1, 2]:\n",
    "        return 'Winter'\n",
    "    elif month in [3, 4, 5]:\n",
    "        return 'Spring'\n",
    "    elif month in [6, 7, 8]:\n",
    "        return 'Summer'\n",
    "    else:\n",
    "        return 'Fall'\n",
    "df['Season'] = df['Month'].apply(get_season)"
   ]
  },
  {
   "cell_type": "code",
   "execution_count": 5,
   "id": "3fe6343b-a8ca-4b62-b12a-92300e6599e7",
   "metadata": {},
   "outputs": [],
   "source": [
    "# transform 2\n",
    "monthly_sales = (\n",
    "    df.groupby(['Store', 'Year', 'Month'], observed=True)['Weekly_Sales']\n",
    "      .sum()\n",
    "      .reset_index()\n",
    ")\n",
    "holiday_sales = (\n",
    "    df.groupby('Holiday', observed=True)['Weekly_Sales']\n",
    "      .mean()\n",
    "      .reset_index()\n",
    ")"
   ]
  },
  {
   "cell_type": "code",
   "execution_count": 6,
   "id": "10f91877-1d36-484b-af09-c3121fa150ca",
   "metadata": {},
   "outputs": [
    {
     "name": "stdout",
     "output_type": "stream",
     "text": [
      "Found 135 outlier rows (>3 std deviations from mean)\n"
     ]
    },
    {
     "data": {
      "text/plain": [
       "<Figure size 1200x500 with 0 Axes>"
      ]
     },
     "metadata": {},
     "output_type": "display_data"
    },
    {
     "data": {
      "image/png": "[encoded data removed]",
      "text/plain": [
       "<Figure size 640x480 with 1 Axes>"
      ]
     },
     "metadata": {},
     "output_type": "display_data"
    }
   ],
   "source": [
    "# Outlier detection using z-score\n",
    "df['zscore_sales'] = (\n",
    "    df.groupby('Store', observed=True)['Weekly_Sales']\n",
    "      .transform(lambda x: stats.zscore(x, nan_policy='omit'))\n",
    ")\n",
    "outlier_rows = df[np.abs(df['zscore_sales']) > 3]\n",
    "print(f\"Found {len(outlier_rows)} outlier rows (>3 std deviations from mean)\")\n",
    "\n",
    "df['is_outlier'] = np.where(np.abs(df['zscore_sales']) > 3, 1, 0)\n",
    "\n",
    "plt.figure(figsize=(12,5))\n",
    "sample_stores = df['Store'].unique()\n",
    "df[df['Store'].isin(sample_stores)].boxplot(column='Weekly_Sales', by='Store', grid=False, rot=45)\n",
    "plt.title('Weekly Sales Distribution')\n",
    "plt.suptitle('')\n",
    "plt.show()"
   ]
  },
  {
   "cell_type": "code",
   "execution_count": 7,
   "id": "11e8ac81-96ac-4a91-9ee2-6c4196e7262a",
   "metadata": {},
   "outputs": [
    {
     "data": {
      "text/html": [
       "<div>\n",
       "<style scoped>\n",
       "    .dataframe tbody tr th:only-of-type {\n",
       "        vertical-align: middle;\n",
       "    }\n",
       "\n",
       "    .dataframe tbody tr th {\n",
       "        vertical-align: top;\n",
       "    }\n",
       "\n",
       "    .dataframe thead th {\n",
       "        text-align: right;\n",
       "    }\n",
       "</style>\n",
       "<table border=\"1\" class=\"dataframe\">\n",
       "  <thead>\n",
       "    <tr style=\"text-align: right;\">\n",
       "      <th></th>\n",
       "      <th>mean_sales</th>\n",
       "      <th>median_sales</th>\n",
       "      <th>outlier_pct</th>\n",
       "    </tr>\n",
       "    <tr>\n",
       "      <th>Store</th>\n",
       "      <th></th>\n",
       "      <th></th>\n",
       "      <th></th>\n",
       "    </tr>\n",
       "  </thead>\n",
       "  <tbody>\n",
       "    <tr>\n",
       "      <th>20</th>\n",
       "      <td>2107676.87</td>\n",
       "      <td>2053165.41</td>\n",
       "      <td>1.4</td>\n",
       "    </tr>\n",
       "    <tr>\n",
       "      <th>4</th>\n",
       "      <td>2094712.96</td>\n",
       "      <td>2073951.38</td>\n",
       "      <td>2.1</td>\n",
       "    </tr>\n",
       "    <tr>\n",
       "      <th>14</th>\n",
       "      <td>2020978.40</td>\n",
       "      <td>2004330.30</td>\n",
       "      <td>1.4</td>\n",
       "    </tr>\n",
       "    <tr>\n",
       "      <th>13</th>\n",
       "      <td>2003620.31</td>\n",
       "      <td>1958823.56</td>\n",
       "      <td>2.1</td>\n",
       "    </tr>\n",
       "    <tr>\n",
       "      <th>2</th>\n",
       "      <td>1925751.34</td>\n",
       "      <td>1879107.31</td>\n",
       "      <td>2.1</td>\n",
       "    </tr>\n",
       "    <tr>\n",
       "      <th>10</th>\n",
       "      <td>1899424.57</td>\n",
       "      <td>1827521.71</td>\n",
       "      <td>3.5</td>\n",
       "    </tr>\n",
       "    <tr>\n",
       "      <th>27</th>\n",
       "      <td>1775216.20</td>\n",
       "      <td>1731935.43</td>\n",
       "      <td>2.8</td>\n",
       "    </tr>\n",
       "    <tr>\n",
       "      <th>6</th>\n",
       "      <td>1564728.19</td>\n",
       "      <td>1524390.07</td>\n",
       "      <td>2.8</td>\n",
       "    </tr>\n",
       "    <tr>\n",
       "      <th>1</th>\n",
       "      <td>1555264.40</td>\n",
       "      <td>1534849.64</td>\n",
       "      <td>2.1</td>\n",
       "    </tr>\n",
       "    <tr>\n",
       "      <th>39</th>\n",
       "      <td>1450668.13</td>\n",
       "      <td>1416005.59</td>\n",
       "      <td>2.8</td>\n",
       "    </tr>\n",
       "  </tbody>\n",
       "</table>\n",
       "</div>"
      ],
      "text/plain": [
       "       mean_sales  median_sales  outlier_pct\n",
       "Store                                       \n",
       "20     2107676.87    2053165.41          1.4\n",
       "4      2094712.96    2073951.38          2.1\n",
       "14     2020978.40    2004330.30          1.4\n",
       "13     2003620.31    1958823.56          2.1\n",
       "2      1925751.34    1879107.31          2.1\n",
       "10     1899424.57    1827521.71          3.5\n",
       "27     1775216.20    1731935.43          2.8\n",
       "6      1564728.19    1524390.07          2.8\n",
       "1      1555264.40    1534849.64          2.1\n",
       "39     1450668.13    1416005.59          2.8"
      ]
     },
     "metadata": {},
     "output_type": "display_data"
    },
    {
     "name": "stdout",
     "output_type": "stream",
     "text": [
      "Average percentage of outliers between stores: 2.10%\n"
     ]
    }
   ],
   "source": [
    "# Summary statistics per store\n",
    "store_summary = (\n",
    "    df.groupby('Store', observed=True)\n",
    "      .agg(\n",
    "          mean_sales=('Weekly_Sales', 'mean'),\n",
    "          median_sales=('Weekly_Sales', 'median'),\n",
    "          outlier_pct=('is_outlier', lambda x: 100 * x.mean())\n",
    "      )\n",
    "      .sort_values('mean_sales', ascending=False)\n",
    "      .round(2)\n",
    ")\n",
    "display(store_summary.head(10))\n",
    "avg_outlier_pct = store_summary['outlier_pct'].mean()\n",
    "print(f\"Average percentage of outliers between stores: {avg_outlier_pct:.2f}%\")"
   ]
  },
  {
   "cell_type": "code",
   "execution_count": 8,
   "id": "b885b025-6b51-4dfc-ac8c-0e204dc205f5",
   "metadata": {},
   "outputs": [
    {
     "name": "stdout",
     "output_type": "stream",
     "text": [
      "Data Quality Summary:\n"
     ]
    },
    {
     "data": {
      "text/plain": [
       "Total Rows              6435.0\n",
       "Missing Values (any)       0.0\n",
       "Temp Null %                0.0\n",
       "Sales Null %               0.0\n",
       "Outlier %                  2.1\n",
       "dtype: float64"
      ]
     },
     "metadata": {},
     "output_type": "display_data"
    }
   ],
   "source": [
    "# Dataset health overview\n",
    "def data_health_report(df):\n",
    "    report = {\n",
    "        'Total Rows': len(df),\n",
    "        'Missing Values (any)': df.isna().any(axis=1).sum(),\n",
    "        'Temp Null %': round(df['Temperature'].isna().mean()*100, 2),\n",
    "        'Sales Null %': round(df['Weekly_Sales'].isna().mean()*100, 2),\n",
    "        'Outlier %': round(df['is_outlier'].mean()*100, 2)\n",
    "    }\n",
    "    return pd.Series(report)\n",
    "print(\"Data Quality Summary:\")\n",
    "display(data_health_report(df))"
   ]
  },
  {
   "cell_type": "code",
   "execution_count": 9,
   "id": "88f216ea-3f29-4f8f-bf86-ffc45e0257f3",
   "metadata": {},
   "outputs": [],
   "source": [
    "# Validate Outlier Detection\n",
    "df_outliers = df.loc[df['is_outlier'] == 1]"
   ]
  },
  {
   "cell_type": "code",
   "execution_count": 10,
   "id": "297a8c6f-6ab8-44c2-ba93-0f8adf0a2d84",
   "metadata": {},
   "outputs": [
    {
     "name": "stdout",
     "output_type": "stream",
     "text": [
      "\n",
      "Comparison of Holiday proportions:\n",
      "            All Data (%)  Outliers (%)\n",
      "Holiday                               \n",
      "No Holiday         93.01         62.22\n",
      "Holiday             6.99         37.78\n"
     ]
    }
   ],
   "source": [
    "holiday_dist = df['Holiday'].value_counts(normalize=True) * 100\n",
    "outlier_dist = df_outliers['Holiday'].value_counts(normalize=True) * 100\n",
    "comparison = pd.DataFrame({\n",
    "    'All Data (%)': holiday_dist,\n",
    "    'Outliers (%)': outlier_dist\n",
    "}).fillna(0).round(2)\n",
    "print(\"\\nComparison of Holiday proportions:\")\n",
    "print(comparison)"
   ]
  },
  {
   "cell_type": "code",
   "execution_count": 11,
   "id": "aa15db29-cb9f-4a12-afc9-3166128d2e0a",
   "metadata": {},
   "outputs": [
    {
     "data": {
      "text/plain": [
       "<Axes: title={'center': 'Holiday vs No-Holiday Outlier Proportion (%)'}, xlabel='Holiday'>"
      ]
     },
     "execution_count": 11,
     "metadata": {},
     "output_type": "execute_result"
    },
    {
     "data": {
      "image/png": "[encoded data removed]",
      "text/plain": [
       "<Figure size 600x400 with 1 Axes>"
      ]
     },
     "metadata": {},
     "output_type": "display_data"
    }
   ],
   "source": [
    "comparison.plot(kind='bar', figsize=(6,4), title='Holiday vs No-Holiday Outlier Proportion (%)')"
   ]
  },
  {
   "cell_type": "markdown",
   "id": "7b9e5faa-b842-4068-8d71-881a1e50561c",
   "metadata": {},
   "source": [
    "In the dataset, only about 7% of weeks are labeled as holidays, yet these weeks contribute to nearly 38% of all statistical outliers. This indicates that holiday weeks are much more likely to exhibit extreme sales behavior — typically sharp spikes or drops compared to normal weeks.\n",
    "In contrast, non-holiday weeks make up 93% of all data but only 62% of the outliers, showing that while normal weeks dominate in volume, their variability is relatively stable.\n",
    "Although holiday weeks represent a small fraction of total periods (7%), they disproportionately contribute to sales outliers (≈38%). This suggests that holidays drive unusually high or volatile sales patterns, reinforcing their strong influence on retail performance and supporting the decision to retain these outlier records for analysis."
   ]
  },
  {
   "cell_type": "code",
   "execution_count": 12,
   "id": "62384973-eaea-4f4a-9ef4-9119d7705944",
   "metadata": {},
   "outputs": [
    {
     "name": "stdout",
     "output_type": "stream",
     "text": [
      "\n",
      "Comparison of Season proportions:\n",
      "        All Data (%)  Outliers (%)\n",
      "Season                            \n",
      "Fall           23.78         37.78\n",
      "Spring         27.27          0.00\n",
      "Summer         27.97          0.00\n",
      "Winter         20.98         62.22\n"
     ]
    }
   ],
   "source": [
    "season_dist = df['Season'].value_counts(normalize=True) * 100\n",
    "outlier_season_dist = df_outliers['Season'].value_counts(normalize=True) * 100\n",
    "season_comparison = pd.DataFrame({\n",
    "    'All Data (%)': season_dist,\n",
    "    'Outliers (%)': outlier_season_dist\n",
    "}).fillna(0).round(2)\n",
    "\n",
    "print(\"\\nComparison of Season proportions:\")\n",
    "print(season_comparison)"
   ]
  },
  {
   "cell_type": "markdown",
   "id": "ada33bd8-0380-44fe-91d1-76d7bab1c820",
   "metadata": {},
   "source": [
    "Although Winter and Fall together represent less than half of all weeks (≈44%), every identified outlier occurs during these two seasons. Winter alone accounts for 62% of all outliers. This indicates that extreme sales behavior is strongly seasonal, concentrated in colder months when major holidays and promotional events drive significant deviations in weekly sales."
   ]
  },
  {
   "cell_type": "code",
   "execution_count": 13,
   "id": "505f9aeb-1a6b-4015-93ce-1a4940e070d0",
   "metadata": {
    "scrolled": true
   },
   "outputs": [
    {
     "name": "stdout",
     "output_type": "stream",
     "text": [
      "     Store       Date  Weekly_Sales Holiday_Flag  Temperature  Fuel_Price  \\\n",
      "6430    45 2012-09-28     713173.95            0        64.88       3.997   \n",
      "6431    45 2012-10-05     733455.07            0        64.89       3.985   \n",
      "6432    45 2012-10-12     734464.36            0        54.47       4.000   \n",
      "6433    45 2012-10-19     718125.53            0        56.47       3.969   \n",
      "6434    45 2012-10-26     760281.43            0        58.85       3.882   \n",
      "\n",
      "             CPI  Unemployment  Year  Month  Week  DayOfWeek     Holiday  \\\n",
      "6430  192.013558         8.684  2012      9    39          4  No Holiday   \n",
      "6431  192.170412         8.667  2012     10    40          4  No Holiday   \n",
      "6432  192.327265         8.667  2012     10    41          4  No Holiday   \n",
      "6433  192.330854         8.667  2012     10    42          4  No Holiday   \n",
      "6434  192.308899         8.667  2012     10    43          4  No Holiday   \n",
      "\n",
      "      Sales_3week_MA  Sales_12week_MA Temp_Bin Season  zscore_sales  \\\n",
      "6430   712832.806667    728158.940000     Warm   Fall     -0.561298   \n",
      "6431   723238.406667    726795.439167     Warm   Fall     -0.404944   \n",
      "6432   727031.126667    726532.998333     Mild   Fall     -0.397163   \n",
      "6433   728681.653333    727070.827500     Mild   Fall     -0.523125   \n",
      "6434   737623.773333    729950.154167     Mild   Fall     -0.198130   \n",
      "\n",
      "      is_outlier  \n",
      "6430           0  \n",
      "6431           0  \n",
      "6432           0  \n",
      "6433           0  \n",
      "6434           0  \n",
      "<class 'pandas.core.frame.DataFrame'>\n",
      "RangeIndex: 6435 entries, 0 to 6434\n",
      "Data columns (total 19 columns):\n",
      " #   Column           Non-Null Count  Dtype         \n",
      "---  ------           --------------  -----         \n",
      " 0   Store            6435 non-null   category      \n",
      " 1   Date             6435 non-null   datetime64[ns]\n",
      " 2   Weekly_Sales     6435 non-null   float64       \n",
      " 3   Holiday_Flag     6435 non-null   category      \n",
      " 4   Temperature      6435 non-null   float64       \n",
      " 5   Fuel_Price       6435 non-null   float64       \n",
      " 6   CPI              6435 non-null   float64       \n",
      " 7   Unemployment     6435 non-null   float64       \n",
      " 8   Year             6435 non-null   int32         \n",
      " 9   Month            6435 non-null   int32         \n",
      " 10  Week             6435 non-null   UInt32        \n",
      " 11  DayOfWeek        6435 non-null   int8          \n",
      " 12  Holiday          6435 non-null   category      \n",
      " 13  Sales_3week_MA   6435 non-null   float64       \n",
      " 14  Sales_12week_MA  6435 non-null   float64       \n",
      " 15  Temp_Bin         6435 non-null   category      \n",
      " 16  Season           6435 non-null   object        \n",
      " 17  zscore_sales     6435 non-null   float64       \n",
      " 18  is_outlier       6435 non-null   int64         \n",
      "dtypes: UInt32(1), category(4), datetime64[ns](1), float64(8), int32(2), int64(1), int8(1), object(1)\n",
      "memory usage: 668.1+ KB\n",
      "None\n"
     ]
    }
   ],
   "source": [
    "# clean data check\n",
    "print(df.tail())\n",
    "print(df.info())"
   ]
  },
  {
   "cell_type": "code",
   "execution_count": 14,
   "id": "4aaed9f7-034a-4bed-b357-0f1578521b5f",
   "metadata": {},
   "outputs": [],
   "source": [
    "# save the clean data to csv\n",
    "df.to_csv(r'.\\data\\walmart_sales_data.csv', encoding='utf-8', index=False)"
   ]
  }
 ],
 "metadata": {
  "kernelspec": {
   "display_name": "Python 3 (ipykernel)",
   "language": "python",
   "name": "python3"
  },
  "language_info": {
   "codemirror_mode": {
    "name": "ipython",
    "version": 3
   },
   "file_extension": ".py",
   "mimetype": "text/x-python",
   "name": "python",
   "nbconvert_exporter": "python",
   "pygments_lexer": "ipython3",
   "version": "3.13.4"
  }
 },
 "nbformat": 4,
 "nbformat_minor": 5
}
